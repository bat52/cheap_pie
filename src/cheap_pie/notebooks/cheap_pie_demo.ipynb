{
 "cells": [
  {
   "cell_type": "markdown",
   "metadata": {},
   "source": [
    "# Cheap Pie Demo"
   ]
  },
  {
   "cell_type": "markdown",
   "metadata": {},
   "source": [
    "## Install"
   ]
  },
  {
   "cell_type": "code",
   "execution_count": 1,
   "metadata": {},
   "outputs": [
    {
     "name": "stdout",
     "output_type": "stream",
     "text": [
      "Requirement already satisfied: pip in /usr/local/python/3.10.8/lib/python3.10/site-packages (23.3.2)\n",
      "Requirement already satisfied: cheap_pie in /usr/local/python/3.10.8/lib/python3.10/site-packages (1.0.9)\n",
      "Requirement already satisfied: untangle in /home/codespace/.local/lib/python3.10/site-packages (from cheap_pie) (1.2.1)\n",
      "Requirement already satisfied: hickle in /home/codespace/.local/lib/python3.10/site-packages (from cheap_pie) (5.0.2)\n",
      "Requirement already satisfied: cmsis-svd in /home/codespace/.local/lib/python3.10/site-packages (from cheap_pie) (0.4)\n",
      "Requirement already satisfied: ipyxact in /home/codespace/.local/lib/python3.10/site-packages (from cheap_pie) (0.3.2)\n",
      "Requirement already satisfied: python-docx in /home/codespace/.local/lib/python3.10/site-packages (from cheap_pie) (0.8.11)\n",
      "Requirement already satisfied: wavedrom in /home/codespace/.local/lib/python3.10/site-packages (from cheap_pie) (2.0.3.post3)\n",
      "Requirement already satisfied: wavedrom-ascii in /home/codespace/.local/lib/python3.10/site-packages (from cheap_pie) (0.2.1)\n",
      "Requirement already satisfied: pyverilator-mm in /usr/local/python/3.10.8/lib/python3.10/site-packages (from cheap_pie) (0.7.5)\n",
      "Requirement already satisfied: peakrdl-ipxact in /home/codespace/.local/lib/python3.10/site-packages (from cheap_pie) (3.4.3)\n",
      "Requirement already satisfied: peakrdl-uvm in /home/codespace/.local/lib/python3.10/site-packages (from cheap_pie) (2.3.0)\n",
      "Requirement already satisfied: peakrdl-verilog in /home/codespace/.local/lib/python3.10/site-packages (from cheap_pie) (1.0.0)\n",
      "Requirement already satisfied: six>=1.10 in /home/codespace/.local/lib/python3.10/site-packages (from cmsis-svd->cheap_pie) (1.16.0)\n",
      "Requirement already satisfied: h5py>=2.10.0 in /home/codespace/.local/lib/python3.10/site-packages (from hickle->cheap_pie) (3.9.0)\n",
      "Requirement already satisfied: numpy!=1.20,>=1.8 in /home/codespace/.local/lib/python3.10/site-packages (from hickle->cheap_pie) (1.25.2)\n",
      "Requirement already satisfied: pyyaml in /home/codespace/.local/lib/python3.10/site-packages (from ipyxact->cheap_pie) (6.0.1)\n",
      "Requirement already satisfied: systemrdl-compiler<2,>=1.24.0 in /home/codespace/.local/lib/python3.10/site-packages (from peakrdl-ipxact->cheap_pie) (1.26.1)\n",
      "Requirement already satisfied: jinja2 in /home/codespace/.local/lib/python3.10/site-packages (from peakrdl-uvm->cheap_pie) (3.1.2)\n",
      "Requirement already satisfied: lxml>=2.3.2 in /home/codespace/.local/lib/python3.10/site-packages (from python-docx->cheap_pie) (4.9.3)\n",
      "Requirement already satisfied: defusedxml<0.8.0,>=0.7.1 in /home/codespace/.local/lib/python3.10/site-packages (from untangle->cheap_pie) (0.7.1)\n",
      "Requirement already satisfied: svgwrite in /home/codespace/.local/lib/python3.10/site-packages (from wavedrom->cheap_pie) (1.4.3)\n",
      "Requirement already satisfied: json5<0.10.0,>=0.9.5 in /home/codespace/.local/lib/python3.10/site-packages (from wavedrom-ascii->cheap_pie) (0.9.14)\n",
      "Requirement already satisfied: antlr4-python3-runtime<4.12,>=4.11 in /home/codespace/.local/lib/python3.10/site-packages (from systemrdl-compiler<2,>=1.24.0->peakrdl-ipxact->cheap_pie) (4.11.1)\n",
      "Requirement already satisfied: colorama in /home/codespace/.local/lib/python3.10/site-packages (from systemrdl-compiler<2,>=1.24.0->peakrdl-ipxact->cheap_pie) (0.4.6)\n",
      "Requirement already satisfied: markdown in /home/codespace/.local/lib/python3.10/site-packages (from systemrdl-compiler<2,>=1.24.0->peakrdl-ipxact->cheap_pie) (3.4.4)\n",
      "Requirement already satisfied: MarkupSafe>=2.0 in /home/codespace/.local/lib/python3.10/site-packages (from jinja2->peakrdl-uvm->cheap_pie) (2.1.3)\n"
     ]
    }
   ],
   "source": [
    "!python -m pip install --upgrade pip\n",
    "!pip install --upgrade cheap_pie"
   ]
  },
  {
   "cell_type": "markdown",
   "metadata": {},
   "source": [
    "## Initialize\n",
    "Start by importing module"
   ]
  },
  {
   "cell_type": "code",
   "execution_count": 2,
   "metadata": {},
   "outputs": [],
   "source": [
    "import cheap_pie as cp"
   ]
  },
  {
   "cell_type": "markdown",
   "metadata": {},
   "source": [
    "Print command-line help"
   ]
  },
  {
   "cell_type": "code",
   "execution_count": 17,
   "metadata": {},
   "outputs": [
    {
     "name": "stdout",
     "output_type": "stream",
     "text": [
      "        _..._                                                                     \n",
      "    .-'_..._''.                                                                   \n",
      "  .' .'      '.\\  .              __.....__               _________   _...._       \n",
      " / .'           .'|          .-''         '.             \\        |.'      '-.    \n",
      ". '            <  |         /     .-''`'-.  `.            \\        .'```'.    '.  \n",
      "| |             | |        /     /________\\   \\    __      \\      |       \\     \\ \n",
      "| |             | | .'''-. |                  | .:--.'.     |     |        |    | \n",
      ". '             | |/.'''. \\|    .-------------'/ |   \\ |    |      \\      /    .  \n",
      " \\ '.          .|  /    | | \\    '-.____...---.`` __ | |    |     |\\`'-.-'   .'   \n",
      "  '. `._____.-'/| |     | |  `.             .'  .'.''| |    |     | '-....-'`     \n",
      "    `-.______ / | |     | |    `''-...... -'   / /   | |_  .'     '.              \n",
      "             `  | '.    | '.                   \\ \\._,\\ '/'-----------'            \n",
      "                '---'   '---'                   `--'  ``                          \n",
      "                            ___                                                   \n",
      "                         .'/   \\                                                  \n",
      "_________   _...._      / /     \\      __.....__                                  \n",
      "\\        |.'      '-.   | |     |  .-''         '.                                \n",
      " \\        .'```'.    '. | |     | /     .-''`'-.  `.                              \n",
      "  \\      |       \\     \\|/`.   .'/     /________\\   \\                             \n",
      "   |     |        |    | `.|   | |                  |                             \n",
      "   |      \\      /    .   ||___| \\    .-------------'                             \n",
      "   |     |\\`'-.-'   .'    |/___/  \\    '-.____...---.                             \n",
      "   |     | '-....-'`      .'.--.   `.             .'                              \n",
      "  .'     '.              | |    |    `''-...... -'                                \n",
      "'-----------'            \\_\\    /                                                 \n",
      "                          `''--'                                                  \n",
      "A python tool for chip validation by Marco Merlin\n",
      "\n",
      "Parsing input arguments...\n",
      "usage: ipykernel_launcher.py [-h] [-rf REGFNAME] [-dd DEVICEDIR]\n",
      "                             [-fmt {svd,cmsis-svd,ipxact,ipyxact,rdl}]\n",
      "                             [-ve VENDOR] [-vendors] [-devices] [-d DEVICE]\n",
      "                             [-t {jlink,dummy,ocd,esptool,verilator}]\n",
      "                             [-p PORT] [-topv TOP_VERILOG]\n",
      "\n",
      "Cheap Pie Configuration\n",
      "\n",
      "options:\n",
      "  -h, --help            show this help message and exit\n",
      "  -rf REGFNAME, --regfname REGFNAME\n",
      "                        register description file name\n",
      "  -dd DEVICEDIR, --devicedir DEVICEDIR\n",
      "                        register description files folder\n",
      "  -fmt {svd,cmsis-svd,ipxact,ipyxact,rdl}, --format {svd,cmsis-svd,ipxact,ipyxact,rdl}\n",
      "                        device description format\n",
      "  -ve VENDOR, --vendor VENDOR\n",
      "                        device vendor. if specified parses svd file from\n",
      "                        github repository.\n",
      "  -vendors, --vendors   Available device vendors from cmsis-svd package.\n",
      "  -devices, --devices   Available devices for specified vendor from cmsis-svd\n",
      "                        package.\n",
      "  -d DEVICE, --device DEVICE\n",
      "                        jlink/ocd device name\n",
      "  -t {jlink,dummy,ocd,esptool,verilator}, --transport {jlink,dummy,ocd,esptool,verilator}\n",
      "                        transport\n",
      "  -p PORT, --port PORT  esptool serial port\n",
      "  -topv TOP_VERILOG, --top_verilog TOP_VERILOG\n",
      "                        top verilog file (when simulating with verilator)\n"
     ]
    },
    {
     "ename": "SystemExit",
     "evalue": "0",
     "output_type": "error",
     "traceback": [
      "An exception has occurred, use %tb to see the full traceback.\n",
      "\u001b[0;31mSystemExit\u001b[0m\u001b[0;31m:\u001b[0m 0\n"
     ]
    },
    {
     "name": "stderr",
     "output_type": "stream",
     "text": [
      "/home/codespace/.local/lib/python3.10/site-packages/IPython/core/interactiveshell.py:3534: UserWarning: To exit: use 'exit', 'quit', or Ctrl-D.\n",
      "  warn(\"To exit: use 'exit', 'quit', or Ctrl-D.\", stacklevel=1)\n"
     ]
    }
   ],
   "source": [
    "cp.cp_main(['--help'])"
   ]
  },
  {
   "cell_type": "markdown",
   "metadata": {},
   "source": [
    "List the available chip vendors from cmsis-svd"
   ]
  },
  {
   "cell_type": "code",
   "execution_count": 18,
   "metadata": {},
   "outputs": [
    {
     "name": "stdout",
     "output_type": "stream",
     "text": [
      "        _..._                                                                     \n",
      "    .-'_..._''.                                                                   \n",
      "  .' .'      '.\\  .              __.....__               _________   _...._       \n",
      " / .'           .'|          .-''         '.             \\        |.'      '-.    \n",
      ". '            <  |         /     .-''`'-.  `.            \\        .'```'.    '.  \n",
      "| |             | |        /     /________\\   \\    __      \\      |       \\     \\ \n",
      "| |             | | .'''-. |                  | .:--.'.     |     |        |    | \n",
      ". '             | |/.'''. \\|    .-------------'/ |   \\ |    |      \\      /    .  \n",
      " \\ '.          .|  /    | | \\    '-.____...---.`` __ | |    |     |\\`'-.-'   .'   \n",
      "  '. `._____.-'/| |     | |  `.             .'  .'.''| |    |     | '-....-'`     \n",
      "    `-.______ / | |     | |    `''-...... -'   / /   | |_  .'     '.              \n",
      "             `  | '.    | '.                   \\ \\._,\\ '/'-----------'            \n",
      "                '---'   '---'                   `--'  ``                          \n",
      "                            ___                                                   \n",
      "                         .'/   \\                                                  \n",
      "_________   _...._      / /     \\      __.....__                                  \n",
      "\\        |.'      '-.   | |     |  .-''         '.                                \n",
      " \\        .'```'.    '. | |     | /     .-''`'-.  `.                              \n",
      "  \\      |       \\     \\|/`.   .'/     /________\\   \\                             \n",
      "   |     |        |    | `.|   | |                  |                             \n",
      "   |      \\      /    .   ||___| \\    .-------------'                             \n",
      "   |     |\\`'-.-'   .'    |/___/  \\    '-.____...---.                             \n",
      "   |     | '-....-'`      .'.--.   `.             .'                              \n",
      "  .'     '.              | |    |    `''-...... -'                                \n",
      "'-----------'            \\_\\    /                                                 \n",
      "                          `''--'                                                  \n",
      "A python tool for chip validation by Marco Merlin\n",
      "\n",
      "Parsing input arguments...\n",
      "Available vendors:\n",
      "SiliconLabs\n",
      "STMicro\n",
      "Atmel\n",
      "Fujitsu\n",
      "Nuvoton\n",
      "NXP\n",
      "Holtek\n",
      "Toshiba\n",
      "ARM_SAMPLE\n",
      "Spansion\n",
      "Nordic\n",
      "Freescale\n",
      "['SiliconLabs', 'STMicro', 'Atmel', 'Fujitsu', 'Nuvoton', 'NXP', 'Holtek', 'Toshiba', 'ARM_SAMPLE', 'Spansion', 'Nordic', 'Freescale']\n"
     ]
    }
   ],
   "source": [
    "args=\"--vendors\"\n",
    "vendors = cp.cp_main(args.split())\n",
    "print(vendors)"
   ]
  },
  {
   "cell_type": "markdown",
   "metadata": {},
   "source": [
    "List the available devices from Freescale"
   ]
  },
  {
   "cell_type": "code",
   "execution_count": 9,
   "metadata": {},
   "outputs": [
    {
     "name": "stdout",
     "output_type": "stream",
     "text": [
      "        _..._                                                                     \n",
      "    .-'_..._''.                                                                   \n",
      "  .' .'      '.\\  .              __.....__               _________   _...._       \n",
      " / .'           .'|          .-''         '.             \\        |.'      '-.    \n",
      ". '            <  |         /     .-''`'-.  `.            \\        .'```'.    '.  \n",
      "| |             | |        /     /________\\   \\    __      \\      |       \\     \\ \n",
      "| |             | | .'''-. |                  | .:--.'.     |     |        |    | \n",
      ". '             | |/.'''. \\|    .-------------'/ |   \\ |    |      \\      /    .  \n",
      " \\ '.          .|  /    | | \\    '-.____...---.`` __ | |    |     |\\`'-.-'   .'   \n",
      "  '. `._____.-'/| |     | |  `.             .'  .'.''| |    |     | '-....-'`     \n",
      "    `-.______ / | |     | |    `''-...... -'   / /   | |_  .'     '.              \n",
      "             `  | '.    | '.                   \\ \\._,\\ '/'-----------'            \n",
      "                '---'   '---'                   `--'  ``                          \n",
      "                            ___                                                   \n",
      "                         .'/   \\                                                  \n",
      "_________   _...._      / /     \\      __.....__                                  \n",
      "\\        |.'      '-.   | |     |  .-''         '.                                \n",
      " \\        .'```'.    '. | |     | /     .-''`'-.  `.                              \n",
      "  \\      |       \\     \\|/`.   .'/     /________\\   \\                             \n",
      "   |     |        |    | `.|   | |                  |                             \n",
      "   |      \\      /    .   ||___| \\    .-------------'                             \n",
      "   |     |\\`'-.-'   .'    |/___/  \\    '-.____...---.                             \n",
      "   |     | '-....-'`      .'.--.   `.             .'                              \n",
      "  .'     '.              | |    |    `''-...... -'                                \n",
      "'-----------'            \\_\\    /                                                 \n",
      "                          `''--'                                                  \n",
      "A python tool for chip validation by Marco Merlin\n",
      "\n",
      "Parsing input arguments...\n",
      "Available devices for vendor Freescale:\n",
      "MK50D7.svd\n",
      "MK60DZ10.svd\n",
      "MKV46F15.svd\n",
      "MK22FA12.svd\n",
      "MK20D10.svd\n",
      "MK22F12.svd\n",
      "MKE15D7.svd\n",
      "MKL16Z4.svd\n",
      "MK22F51212.svd\n",
      "MK30D10.svd\n",
      "MK53D10.svd\n",
      "MK22F25612.svd\n",
      "MKW21D5.svd\n",
      "MK20D7.svd\n",
      "SKEAZN642.svd\n",
      "MK26F18.svd\n",
      "MK21F12.svd\n",
      "MKV45F15.svd\n",
      "MKL34Z4.svd\n",
      "MKS22F12.svd\n",
      "MKL81Z7.svd\n",
      "MKE02Z4.svd\n",
      "MK51D7.svd\n",
      "MKM14ZA5.svd\n",
      "MK40DZ10.svd\n",
      "MKV31F12810.svd\n",
      "MKV44F16.svd\n",
      "MK21D5WS.svd\n",
      "MKV43F15.svd\n",
      "MKL26Z4.svd\n",
      "MK80F25615.svd\n",
      "MKL36Z4.svd\n",
      "MKV58F24.svd\n",
      "MK30DZ10.svd\n",
      "MKV30F12810.svd\n",
      "MK52DZ10.svd\n",
      "MKL15Z4.svd\n",
      "MKE16F16.svd\n",
      "MK50D10.svd\n",
      "MKV56F20.svd\n",
      "MKL33Z4.svd\n",
      "MK24F25612.svd\n",
      "MK02F12810.svd\n",
      "MKL27Z644.svd\n",
      "MKL13Z644.svd\n",
      "MK65F18.svd\n",
      "MKV58F20.svd\n",
      "MKL05Z4.svd\n",
      "MKL33Z644.svd\n",
      "MK21D5.svd\n",
      "MKL02Z4.svd\n",
      "MKE04Z4.svd\n",
      "MKL27Z4.svd\n",
      "MK66F18.svd\n",
      "MKL24Z4.svd\n",
      "MK11D5.svd\n",
      "MK60D10.svd\n",
      "MKV56F22.svd\n",
      "MK51DZ10.svd\n",
      "MKV11Z7.svd\n",
      "MKL03Z4.svd\n",
      "MK70F15.svd\n",
      "MK70F15WS.svd\n",
      "SKEAZN84.svd\n",
      "MK10D10.svd\n",
      "MKV44F15.svd\n",
      "MK21DA5.svd\n",
      "MKM33ZA5.svd\n",
      "MKE14Z7.svd\n",
      "MKE14D7.svd\n",
      "MK61F15.svd\n",
      "MK60F15.svd\n",
      "MK20DZ10.svd\n",
      "MK70F12.svd\n",
      "MKL46Z4.svd\n",
      "MKE15Z7.svd\n",
      "MKW41Z4.svd\n",
      "MK20D5.svd\n",
      "MKL04Z4.svd\n",
      "MKW30Z4.svd\n",
      "MKE02Z2.svd\n",
      "MK10D7.svd\n",
      "MKL17Z644.svd\n",
      "MKV56F24.svd\n",
      "MKE04Z1284.svd\n",
      "MK10DZ10.svd\n",
      "MK21FA12.svd\n",
      "MK40D10.svd\n",
      "MK22F12810.svd\n",
      "MKV58F22.svd\n",
      "MKM34ZA5.svd\n",
      "MKV10Z7.svd\n",
      "MKE14F16.svd\n",
      "MK22D5.svd\n",
      "MK24F12.svd\n",
      "MK11D5WS.svd\n",
      "MK30D7.svd\n",
      "MK63F12.svd\n",
      "MKE18F16.svd\n",
      "MK11DA5.svd\n",
      "MKL43Z4.svd\n",
      "MKM34Z7.svd\n",
      "MKV31F25612.svd\n",
      "MK64F12.svd\n",
      "MK51D10.svd\n",
      "MKV10Z1287.svd\n",
      "SKEAZ1284.svd\n",
      "MK40D7.svd\n",
      "MKW31Z4.svd\n",
      "MKV46F16.svd\n",
      "MKL82Z7.svd\n",
      "MKL28T7_CORE1.svd\n",
      "MK12D5.svd\n",
      "MK50DZ10.svd\n",
      "MKW01Z4.svd\n",
      "MK82F25615.svd\n",
      "MK52D10.svd\n",
      "MKW22D5.svd\n",
      "MKV42F16.svd\n",
      "MKW20Z4.svd\n",
      "MKL17Z4.svd\n",
      "MKL28T7_CORE0.svd\n",
      "MKV31F51212.svd\n",
      "MK10D5.svd\n",
      "MKL28Z7.svd\n",
      "MK53DZ10.svd\n",
      "MK10F12.svd\n",
      "MKW40Z4.svd\n",
      "MK81F25615.svd\n",
      "MK20F12.svd\n",
      "MKL25Z4.svd\n",
      "MKE06Z4.svd\n",
      "MK61F15WS.svd\n",
      "MKV40F15.svd\n",
      "MKL14Z4.svd\n",
      "Freescale CMSIS-SVD License Agreement.pdf\n",
      "MKW21Z4.svd\n",
      "MKW24D5.svd\n",
      "['MK50D7.svd', 'MK60DZ10.svd', 'MKV46F15.svd', 'MK22FA12.svd', 'MK20D10.svd', 'MK22F12.svd', 'MKE15D7.svd', 'MKL16Z4.svd', 'MK22F51212.svd', 'MK30D10.svd', 'MK53D10.svd', 'MK22F25612.svd', 'MKW21D5.svd', 'MK20D7.svd', 'SKEAZN642.svd', 'MK26F18.svd', 'MK21F12.svd', 'MKV45F15.svd', 'MKL34Z4.svd', 'MKS22F12.svd', 'MKL81Z7.svd', 'MKE02Z4.svd', 'MK51D7.svd', 'MKM14ZA5.svd', 'MK40DZ10.svd', 'MKV31F12810.svd', 'MKV44F16.svd', 'MK21D5WS.svd', 'MKV43F15.svd', 'MKL26Z4.svd', 'MK80F25615.svd', 'MKL36Z4.svd', 'MKV58F24.svd', 'MK30DZ10.svd', 'MKV30F12810.svd', 'MK52DZ10.svd', 'MKL15Z4.svd', 'MKE16F16.svd', 'MK50D10.svd', 'MKV56F20.svd', 'MKL33Z4.svd', 'MK24F25612.svd', 'MK02F12810.svd', 'MKL27Z644.svd', 'MKL13Z644.svd', 'MK65F18.svd', 'MKV58F20.svd', 'MKL05Z4.svd', 'MKL33Z644.svd', 'MK21D5.svd', 'MKL02Z4.svd', 'MKE04Z4.svd', 'MKL27Z4.svd', 'MK66F18.svd', 'MKL24Z4.svd', 'MK11D5.svd', 'MK60D10.svd', 'MKV56F22.svd', 'MK51DZ10.svd', 'MKV11Z7.svd', 'MKL03Z4.svd', 'MK70F15.svd', 'MK70F15WS.svd', 'SKEAZN84.svd', 'MK10D10.svd', 'MKV44F15.svd', 'MK21DA5.svd', 'MKM33ZA5.svd', 'MKE14Z7.svd', 'MKE14D7.svd', 'MK61F15.svd', 'MK60F15.svd', 'MK20DZ10.svd', 'MK70F12.svd', 'MKL46Z4.svd', 'MKE15Z7.svd', 'MKW41Z4.svd', 'MK20D5.svd', 'MKL04Z4.svd', 'MKW30Z4.svd', 'MKE02Z2.svd', 'MK10D7.svd', 'MKL17Z644.svd', 'MKV56F24.svd', 'MKE04Z1284.svd', 'MK10DZ10.svd', 'MK21FA12.svd', 'MK40D10.svd', 'MK22F12810.svd', 'MKV58F22.svd', 'MKM34ZA5.svd', 'MKV10Z7.svd', 'MKE14F16.svd', 'MK22D5.svd', 'MK24F12.svd', 'MK11D5WS.svd', 'MK30D7.svd', 'MK63F12.svd', 'MKE18F16.svd', 'MK11DA5.svd', 'MKL43Z4.svd', 'MKM34Z7.svd', 'MKV31F25612.svd', 'MK64F12.svd', 'MK51D10.svd', 'MKV10Z1287.svd', 'SKEAZ1284.svd', 'MK40D7.svd', 'MKW31Z4.svd', 'MKV46F16.svd', 'MKL82Z7.svd', 'MKL28T7_CORE1.svd', 'MK12D5.svd', 'MK50DZ10.svd', 'MKW01Z4.svd', 'MK82F25615.svd', 'MK52D10.svd', 'MKW22D5.svd', 'MKV42F16.svd', 'MKW20Z4.svd', 'MKL17Z4.svd', 'MKL28T7_CORE0.svd', 'MKV31F51212.svd', 'MK10D5.svd', 'MKL28Z7.svd', 'MK53DZ10.svd', 'MK10F12.svd', 'MKW40Z4.svd', 'MK81F25615.svd', 'MK20F12.svd', 'MKL25Z4.svd', 'MKE06Z4.svd', 'MK61F15WS.svd', 'MKV40F15.svd', 'MKL14Z4.svd', 'Freescale CMSIS-SVD License Agreement.pdf', 'MKW21Z4.svd', 'MKW24D5.svd']\n"
     ]
    }
   ],
   "source": [
    "args=\"-ve Freescale --devices\"\n",
    "devices = cp.cp_main(args.split())\n",
    "print(devices)"
   ]
  },
  {
   "cell_type": "markdown",
   "metadata": {},
   "source": [
    "Load MK50D7 structure. \n",
    "Note this also emulates connection to a mock-up device."
   ]
  },
  {
   "cell_type": "code",
   "execution_count": 19,
   "metadata": {},
   "outputs": [
    {
     "name": "stdout",
     "output_type": "stream",
     "text": [
      "        _..._                                                                     \n",
      "    .-'_..._''.                                                                   \n",
      "  .' .'      '.\\  .              __.....__               _________   _...._       \n",
      " / .'           .'|          .-''         '.             \\        |.'      '-.    \n",
      ". '            <  |         /     .-''`'-.  `.            \\        .'```'.    '.  \n",
      "| |             | |        /     /________\\   \\    __      \\      |       \\     \\ \n",
      "| |             | | .'''-. |                  | .:--.'.     |     |        |    | \n",
      ". '             | |/.'''. \\|    .-------------'/ |   \\ |    |      \\      /    .  \n",
      " \\ '.          .|  /    | | \\    '-.____...---.`` __ | |    |     |\\`'-.-'   .'   \n",
      "  '. `._____.-'/| |     | |  `.             .'  .'.''| |    |     | '-....-'`     \n",
      "    `-.______ / | |     | |    `''-...... -'   / /   | |_  .'     '.              \n",
      "             `  | '.    | '.                   \\ \\._,\\ '/'-----------'            \n",
      "                '---'   '---'                   `--'  ``                          \n",
      "                            ___                                                   \n",
      "                         .'/   \\                                                  \n",
      "_________   _...._      / /     \\      __.....__                                  \n",
      "\\        |.'      '-.   | |     |  .-''         '.                                \n",
      " \\        .'```'.    '. | |     | /     .-''`'-.  `.                              \n",
      "  \\      |       \\     \\|/`.   .'/     /________\\   \\                             \n",
      "   |     |        |    | `.|   | |                  |                             \n",
      "   |      \\      /    .   ||___| \\    .-------------'                             \n",
      "   |     |\\`'-.-'   .'    |/___/  \\    '-.____...---.                             \n",
      "   |     | '-....-'`      .'.--.   `.             .'                              \n",
      "  .'     '.              | |    |    `''-...... -'                                \n",
      "'-----------'            \\_\\    /                                                 \n",
      "                          `''--'                                                  \n",
      "A python tool for chip validation by Marco Merlin\n",
      "\n",
      "Parsing input arguments...\n",
      "Initialising Host Interface...\n",
      "Initialising Hardware Abstraction Layer...\n",
      "Cheap Pie is ready! Type hal.<TAB> to start browsing...\n"
     ]
    }
   ],
   "source": [
    "args=\"-rf MK50D7.svd -ve Freescale\"\n",
    "dut = cp.cp_main(args.split())"
   ]
  },
  {
   "cell_type": "markdown",
   "metadata": {},
   "source": [
    "Search for bitfields containing the keyword 'spi'"
   ]
  },
  {
   "cell_type": "code",
   "execution_count": 20,
   "metadata": {},
   "outputs": [
    {
     "name": "stdout",
     "output_type": "stream",
     "text": [
      "          SPI0_TCR[31:16] @             SPI_TCNT [16]\n",
      "          SPI1_TCR[31:16] @             SPI_TCNT [16]\n",
      "            SIM_SCGC6[12] @                  SPI0 [1]\n",
      "            SIM_SCGC6[13] @                  SPI1 [1]\n"
     ]
    },
    {
     "data": {
      "text/plain": [
       "['          SPI0_TCR[31:16] @             SPI_TCNT [16]',\n",
       " '          SPI1_TCR[31:16] @             SPI_TCNT [16]',\n",
       " '            SIM_SCGC6[12] @                  SPI0 [1]',\n",
       " '            SIM_SCGC6[13] @                  SPI1 [1]']"
      ]
     },
     "execution_count": 20,
     "metadata": {},
     "output_type": "execute_result"
    }
   ],
   "source": [
    "dut.search_bitfield('spi')"
   ]
  },
  {
   "cell_type": "markdown",
   "metadata": {},
   "source": [
    "Read register description"
   ]
  },
  {
   "cell_type": "code",
   "execution_count": 21,
   "metadata": {},
   "outputs": [
    {
     "name": "stdout",
     "output_type": "stream",
     "text": [
      "\n",
      "31                            1615                             0\n",
      "┌─┬─┬─┬─┬─┬─┬─┬─┬─┬─┬─┬─┬─┬─┬─┬─┬─┬─┬─┬─┬─┬─┬─┬─┬─┬─┬─┬─┬─┬─┬─┬─┐\n",
      "│           SPI_TCNT            │                               │\n",
      "└─┴─┴─┴─┴─┴─┴─┴─┴─┴─┴─┴─┴─┴─┴─┴─┴─┴─┴─┴─┴─┴─┴─┴─┴─┴─┴─┴─┴─┴─┴─┴─┘\n",
      "Address: 0x4002c008\n",
      "DSPI Transfer Count Register\n",
      "                 SPI_TCNT: \n",
      "                         : SPI Transfer Counter\n",
      "\n",
      "313029282726252423222120191817161514131211                 2 1 0\n",
      "┌─┬─┬─┬─┬─┬─┬─┬─┬─┬─┬─┬─┬─┬─┬─┬─┬─┬─┬─┬─┬─┬─┬─┬─┬─┬─┬─┬─┬─┬─┬─┬─┐\n",
      "│   │R│ │A│ │F│F│P│P│U│   │C│   │I│ │S│S│                   │D│F│\n",
      "└─┴─┴─┴─┴─┴─┴─┴─┴─┴─┴─┴─┴─┴─┴─┴─┴─┴─┴─┴─┴─┴─┴─┴─┴─┴─┴─┴─┴─┴─┴─┴─┘\n",
      "Address: 0x4004803c\n",
      "System Clock Gating Control Register 6\n",
      "                     FTFL: \n",
      "                         : Flash Memory Clock Gate Control\n",
      "                   DMAMUX: \n",
      "                         : DMA Mux Clock Gate Control\n",
      "                     SPI0: \n",
      "                         : SPI0 Clock Gate Control\n",
      "                     SPI1: \n",
      "                         : SPI1 Clock Gate Control\n",
      "                      I2S: \n",
      "                         : I2S Clock Gate Control\n",
      "                      CRC: \n",
      "                         : CRC Clock Gate Control\n",
      "                   USBDCD: \n",
      "                         : USB DCD Clock Gate Control\n",
      "                      PDB: \n",
      "                         : PDB Clock Gate Control\n",
      "                      PIT: \n",
      "                         : PIT Clock Gate Control\n",
      "                     FTM0: \n",
      "                         : FTM0 Clock Gate Control\n",
      "                     FTM1: \n",
      "                         : FTM1 Clock Gate Control\n",
      "                     ADC0: \n",
      "                         : ADC0 Clock Gate Control\n",
      "                      RTC: \n",
      "                         : RTC Access Control\n"
     ]
    }
   ],
   "source": [
    "dut.regs.SPI0_TCR.help()\n",
    "dut.regs.SIM_SCGC6.help()"
   ]
  },
  {
   "cell_type": "markdown",
   "metadata": {},
   "source": [
    "Read register status. Note this is currently based on the mock-up device."
   ]
  },
  {
   "cell_type": "code",
   "execution_count": 22,
   "metadata": {},
   "outputs": [
    {
     "name": "stdout",
     "output_type": "stream",
     "text": [
      "             SIM_SCGC6[0] @            FTFL [1] = 0x0\n",
      "             SIM_SCGC6[1] @          DMAMUX [1] = 0x0\n",
      "            SIM_SCGC6[12] @            SPI0 [1] = 0x0\n",
      "            SIM_SCGC6[13] @            SPI1 [1] = 0x0\n",
      "            SIM_SCGC6[15] @             I2S [1] = 0x0\n",
      "            SIM_SCGC6[18] @             CRC [1] = 0x0\n",
      "            SIM_SCGC6[21] @          USBDCD [1] = 0x0\n",
      "            SIM_SCGC6[22] @             PDB [1] = 0x0\n",
      "            SIM_SCGC6[23] @             PIT [1] = 0x0\n",
      "            SIM_SCGC6[24] @            FTM0 [1] = 0x0\n",
      "            SIM_SCGC6[25] @            FTM1 [1] = 0x0\n",
      "            SIM_SCGC6[27] @            ADC0 [1] = 0x0\n",
      "            SIM_SCGC6[29] @             RTC [1] = 0x0\n"
     ]
    }
   ],
   "source": [
    "dut.regs.SIM_SCGC6.display()"
   ]
  },
  {
   "cell_type": "markdown",
   "metadata": {},
   "source": [
    "Modify status of control bit, and readback status"
   ]
  },
  {
   "cell_type": "code",
   "execution_count": 23,
   "metadata": {},
   "outputs": [
    {
     "name": "stdout",
     "output_type": "stream",
     "text": [
      "             SIM_SCGC6[0] @            FTFL [1] = 0x0\n",
      "             SIM_SCGC6[1] @          DMAMUX [1] = 0x0\n",
      "            SIM_SCGC6[12] @            SPI0 [1] = 0x1\n",
      "            SIM_SCGC6[13] @            SPI1 [1] = 0x0\n",
      "            SIM_SCGC6[15] @             I2S [1] = 0x0\n",
      "            SIM_SCGC6[18] @             CRC [1] = 0x0\n",
      "            SIM_SCGC6[21] @          USBDCD [1] = 0x0\n",
      "            SIM_SCGC6[22] @             PDB [1] = 0x0\n",
      "            SIM_SCGC6[23] @             PIT [1] = 0x0\n",
      "            SIM_SCGC6[24] @            FTM0 [1] = 0x0\n",
      "            SIM_SCGC6[25] @            FTM1 [1] = 0x0\n",
      "            SIM_SCGC6[27] @            ADC0 [1] = 0x0\n",
      "            SIM_SCGC6[29] @             RTC [1] = 0x0\n"
     ]
    }
   ],
   "source": [
    "dut.regs.SIM_SCGC6.bitfields.SPI0.setbit(1)\n",
    "dut.regs.SIM_SCGC6.display()"
   ]
  }
 ],
 "metadata": {
  "kernelspec": {
   "display_name": "Python 3",
   "language": "python",
   "name": "python3"
  },
  "language_info": {
   "codemirror_mode": {
    "name": "ipython",
    "version": 3
   },
   "file_extension": ".py",
   "mimetype": "text/x-python",
   "name": "python",
   "nbconvert_exporter": "python",
   "pygments_lexer": "ipython3",
   "version": "3.10.8"
  }
 },
 "nbformat": 4,
 "nbformat_minor": 2
}
